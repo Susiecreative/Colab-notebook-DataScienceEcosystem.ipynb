{
  "nbformat": 4,
  "nbformat_minor": 0,
  "metadata": {
    "colab": {
      "provenance": []
    },
    "kernelspec": {
      "name": "python3",
      "display_name": "Python 3"
    },
    "language_info": {
      "name": "python"
    }
  },
  "cells": [
    {
      "cell_type": "markdown",
      "source": [
        "#Data Science Tools and Ecosystem"
      ],
      "metadata": {
        "id": "HrQ13ioVpP2w"
      }
    },
    {
      "cell_type": "markdown",
      "source": [
        "**Objectives:**"
      ],
      "metadata": {
        "id": "n0AwKr1yfd0a"
      }
    },
    {
      "cell_type": "markdown",
      "source": [
        "\n",
        "- Add comments to code\n",
        "- Create markdown cells\n",
        "- Add ordered and unordered lists\n",
        "- Format contents o markdown cells\n"
      ],
      "metadata": {
        "id": "3Tb5Re8Vgrvl"
      }
    },
    {
      "cell_type": "markdown",
      "source": [
        "In this notebook, Data Science Tools and Ecosystem are summarized."
      ],
      "metadata": {
        "id": "2C9Z3nwNunay"
      }
    },
    {
      "cell_type": "markdown",
      "source": [
        "Some of the popular languages that Data Scientists use are:"
      ],
      "metadata": {
        "id": "F-0yjgTMvYWS"
      }
    },
    {
      "cell_type": "markdown",
      "source": [
        "ordered list\n",
        "1. Python\n",
        "2. R\n",
        "3. SQL\n",
        "4. Java\n",
        "5. C++\n",
        "6. Julia"
      ],
      "metadata": {
        "id": "9Oix3Gq9DEkB"
      }
    },
    {
      "cell_type": "markdown",
      "source": [
        "Some of the commonly used libraries used by Data Scientists include:"
      ],
      "metadata": {
        "id": "ocEhU1Njx-6G"
      }
    },
    {
      "cell_type": "markdown",
      "source": [
        "#ordered list\n",
        "1. JupyterLab\n",
        "2. Colab\n",
        "3. Watson"
      ],
      "metadata": {
        "id": "e3gJmr-OyRNu"
      }
    },
    {
      "cell_type": "markdown",
      "source": [
        "##Tables:\n",
        "| Data Science Tools |\n",
        "| ------------------ |\n",
        "| Jupyter Notebook |\n",
        "| Rstudio |\n",
        "| Github |"
      ],
      "metadata": {
        "id": "cWg45YHn18nu"
      }
    },
    {
      "cell_type": "markdown",
      "source": [
        "###Below are a few examples of evaluating arithmetic expressions in Python"
      ],
      "metadata": {
        "id": "h_wDDSealVcr"
      }
    },
    {
      "cell_type": "code",
      "source": [
        "(3*4)+5 ##This a simple arithmetic expression to mutiply then add integers."
      ],
      "metadata": {
        "colab": {
          "base_uri": "https://localhost:8080/"
        },
        "id": "LjyEz5voo1Yf",
        "outputId": "7e838dd8-e5e0-4937-869d-bd110a1720e8"
      },
      "execution_count": null,
      "outputs": [
        {
          "output_type": "execute_result",
          "data": {
            "text/plain": [
              "17"
            ]
          },
          "metadata": {},
          "execution_count": 2
        }
      ]
    },
    {
      "cell_type": "code",
      "source": [
        "##This will convert 200minutes to huors by dividing by 60:\n",
        "200//60"
      ],
      "metadata": {
        "id": "_zM-wrUvp1ZG",
        "colab": {
          "base_uri": "https://localhost:8080/"
        },
        "outputId": "f1c1af2d-be35-49c0-a385-86650cc144fb"
      },
      "execution_count": 2,
      "outputs": [
        {
          "output_type": "execute_result",
          "data": {
            "text/plain": [
              "3"
            ]
          },
          "metadata": {},
          "execution_count": 2
        }
      ]
    },
    {
      "cell_type": "markdown",
      "source": [
        "##**Author**"
      ],
      "metadata": {
        "id": "KIxTcUm6ixx2"
      }
    },
    {
      "cell_type": "markdown",
      "source": [
        "Sussan Mehrayin"
      ],
      "metadata": {
        "id": "P7DIVPQ0i9_F"
      }
    }
  ]
}